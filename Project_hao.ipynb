{
 "cells": [
  {
   "cell_type": "code",
   "execution_count": 1,
   "metadata": {},
   "outputs": [
    {
     "name": "stdout",
     "output_type": "stream",
     "text": [
      "1 Physical GPUs, 1 Logical GPUs\n",
      "tf.__version__ is 2.1.0\n",
      "tf.keras.__version__ is: 2.2.4-tf\n"
     ]
    },
    {
     "name": "stderr",
     "output_type": "stream",
     "text": [
      "Using TensorFlow backend.\n"
     ]
    }
   ],
   "source": [
    "\n",
    "import importlib\n",
    "from load_package_gpu import *\n"
   ]
  },
  {
   "cell_type": "code",
   "execution_count": 2,
   "metadata": {},
   "outputs": [],
   "source": [
    "X_test = np.load(\"X_test.npy\")\n",
    "y_test = np.load(\"y_test.npy\")\n",
    "person_train_valid = np.load(\"person_train_valid.npy\")\n",
    "X_train_valid = np.load(\"X_train_valid.npy\")\n",
    "y_train_valid = np.load(\"y_train_valid.npy\")\n",
    "person_test = np.load(\"person_test.npy\")\n",
    "y_train_valid -= 769\n",
    "y_test -= 769\n",
    "perm = np.random.permutation(X_train_valid.shape[0])\n",
    "numTrain = int(0.8*X_train_valid.shape[0])\n",
    "numVal = X_train_valid.shape[0] - numTrain\n",
    "Xtrain = X_train_valid[perm[0:numTrain]]\n",
    "ytrain = y_train_valid[perm[0:numTrain]]\n",
    "Xval = X_train_valid[perm[numTrain: ]]\n",
    "yval = y_train_valid[perm[numTrain: ]]"
   ]
  },
  {
   "cell_type": "code",
   "execution_count": 3,
   "metadata": {},
   "outputs": [],
   "source": [
    "from keras import backend as K\n",
    "def Ksquare(x):\n",
    "    return K.pow(x, 2)\n",
    "def Klog(x):\n",
    "    return K.log(x)"
   ]
  },
  {
   "cell_type": "code",
   "execution_count": 4,
   "metadata": {},
   "outputs": [],
   "source": [
    "inputs = layers.Input(shape=(22, 1000))\n",
    "r1 = layers.Reshape((1, 22, 1000))(inputs)\n",
    "c1 = layers.Conv2D(40, (1, 25), strides=1, activation='elu',\n",
    "                  data_format='channels_first')(r1)\n",
    "r2 = layers.Reshape((1, 40*22, 976))(c1)\n",
    "c2 = layers.Conv2D(40, (40*22, 1), strides=1, activation='elu',\n",
    "                  data_format='channels_first')(r2)\n",
    "sq1 = layers.Activation(Ksquare)(c2)\n",
    "r3 = layers.Reshape((1, 40, 976))(sq1)\n",
    "apool1 = layers.AveragePooling2D((1, 75), strides=(1, 15), \n",
    "                                 data_format = 'channels_first')(r3)\n",
    "log1 = layers.Activation(Klog)(apool1)\n",
    "f1 = layers.Flatten()(log1)\n",
    "outputs = layers.Dense(4, activation='softmax')(f1)"
   ]
  },
  {
   "cell_type": "code",
   "execution_count": 5,
   "metadata": {},
   "outputs": [
    {
     "name": "stdout",
     "output_type": "stream",
     "text": [
      "Model: \"model_1\"\n",
      "_________________________________________________________________\n",
      "Layer (type)                 Output Shape              Param #   \n",
      "=================================================================\n",
      "input_1 (InputLayer)         (None, 22, 1000)          0         \n",
      "_________________________________________________________________\n",
      "reshape_1 (Reshape)          (None, 1, 22, 1000)       0         \n",
      "_________________________________________________________________\n",
      "conv2d_1 (Conv2D)            (None, 40, 22, 976)       1040      \n",
      "_________________________________________________________________\n",
      "reshape_2 (Reshape)          (None, 1, 880, 976)       0         \n",
      "_________________________________________________________________\n",
      "conv2d_2 (Conv2D)            (None, 40, 1, 976)        35240     \n",
      "_________________________________________________________________\n",
      "activation_1 (Activation)    (None, 40, 1, 976)        0         \n",
      "_________________________________________________________________\n",
      "reshape_3 (Reshape)          (None, 1, 40, 976)        0         \n",
      "_________________________________________________________________\n",
      "average_pooling2d_1 (Average (None, 1, 40, 61)         0         \n",
      "_________________________________________________________________\n",
      "activation_2 (Activation)    (None, 1, 40, 61)         0         \n",
      "_________________________________________________________________\n",
      "flatten_1 (Flatten)          (None, 2440)              0         \n",
      "_________________________________________________________________\n",
      "dense_1 (Dense)              (None, 4)                 9764      \n",
      "=================================================================\n",
      "Total params: 46,044\n",
      "Trainable params: 46,044\n",
      "Non-trainable params: 0\n",
      "_________________________________________________________________\n"
     ]
    }
   ],
   "source": [
    "model = models.Model(inputs = inputs, outputs = outputs)\n",
    "model.compile('adam', 'sparse_categorical_crossentropy', metrics=['acc'])\n",
    "model.summary()"
   ]
  },
  {
   "cell_type": "code",
   "execution_count": 6,
   "metadata": {},
   "outputs": [
    {
     "name": "stdout",
     "output_type": "stream",
     "text": [
      "Train on 1692 samples, validate on 423 samples\n",
      "Epoch 1/10\n",
      "1692/1692 [==============================] - 2s 1ms/step - loss: 2.0033 - acc: 0.3067 - val_loss: 1.3809 - val_acc: 0.3121\n",
      "Epoch 2/10\n",
      "1692/1692 [==============================] - 1s 615us/step - loss: 1.3223 - acc: 0.3794 - val_loss: 1.3641 - val_acc: 0.3262\n",
      "Epoch 3/10\n",
      "1692/1692 [==============================] - 1s 687us/step - loss: 1.2287 - acc: 0.4569 - val_loss: 1.3038 - val_acc: 0.3972\n",
      "Epoch 4/10\n",
      "1692/1692 [==============================] - 1s 690us/step - loss: 1.1194 - acc: 0.5148 - val_loss: 1.2689 - val_acc: 0.4066\n",
      "Epoch 5/10\n",
      "1692/1692 [==============================] - 1s 685us/step - loss: 1.0535 - acc: 0.5514 - val_loss: 1.2308 - val_acc: 0.4208\n",
      "Epoch 6/10\n",
      "1692/1692 [==============================] - 1s 531us/step - loss: 0.9590 - acc: 0.6129 - val_loss: 1.1643 - val_acc: 0.5130\n",
      "Epoch 7/10\n",
      "1692/1692 [==============================] - 1s 647us/step - loss: 0.8662 - acc: 0.6560 - val_loss: 1.1809 - val_acc: 0.5154\n",
      "Epoch 8/10\n",
      "1692/1692 [==============================] - 1s 640us/step - loss: 0.7592 - acc: 0.7134 - val_loss: 1.1609 - val_acc: 0.5319\n",
      "Epoch 9/10\n",
      "1692/1692 [==============================] - 1s 590us/step - loss: 0.6870 - acc: 0.7459 - val_loss: 1.1014 - val_acc: 0.5437\n",
      "Epoch 10/10\n",
      "1692/1692 [==============================] - 1s 617us/step - loss: 0.6391 - acc: 0.7618 - val_loss: 1.1154 - val_acc: 0.5603\n"
     ]
    }
   ],
   "source": [
    "loss_hist = model.fit(Xtrain, ytrain, validation_data=(Xval, yval),\n",
    "                     epochs = 10)"
   ]
  },
  {
   "cell_type": "code",
   "execution_count": 7,
   "metadata": {},
   "outputs": [
    {
     "data": {
      "text/plain": [
       "<matplotlib.legend.Legend at 0x7fe3703d5fd0>"
      ]
     },
     "execution_count": 7,
     "metadata": {},
     "output_type": "execute_result"
    },
    {
     "data": {
      "image/png": "[encoded data removed]",
      "text/plain": [
       "<Figure size 1080x504 with 2 Axes>"
      ]
     },
     "metadata": {
      "needs_background": "light"
     },
     "output_type": "display_data"
    }
   ],
   "source": [
    "hist = loss_hist.history\n",
    "\n",
    "plt.figure(figsize=(15, 7))\n",
    "plt.subplot(1, 2, 1)\n",
    "plt.plot(hist['loss'])\n",
    "plt.plot(hist['val_loss'])\n",
    "plt.ylabel('loss')\n",
    "plt.xlabel('epoch')\n",
    "plt.legend(['train', 'val'])\n",
    "\n",
    "plt.subplot(1, 2, 2)\n",
    "plt.plot(hist['acc'])\n",
    "plt.plot(hist['val_acc'])\n",
    "plt.ylabel('acc')\n",
    "plt.xlabel('epoch')\n",
    "plt.legend(['train', 'val'])"
   ]
  },
  {
   "cell_type": "markdown",
   "metadata": {},
   "source": [
    "## Now we try to build a NN with LSTM + (CNN+pool)*2 + softmax"
   ]
  },
  {
   "cell_type": "markdown",
   "metadata": {},
   "source": [
    "Some assumptions: \n",
    "1. EEG can be view as force inputs to a system, we need to integrate the result force, RNN can be view as a weighted moving average filter\n",
    "1. Different "
   ]
  },
  {
   "cell_type": "code",
   "execution_count": 58,
   "metadata": {},
   "outputs": [],
   "source": [
    "hidden_size = 20\n",
    "inputs = layers.Input(shape=(22, 1000))\n",
    "p1 = layers.Permute((2,1))(inputs)\n",
    "r1 = layers.LSTM(units = hidden_size,return_sequences=True)(p1)\n",
    "p2 = layers.Permute((2,1))(r1)\n",
    "c1 = layers.Conv1D(filters=10,kernel_size=10)(p2)\n",
    "pool1 = layers.MaxPool1D(pool_size=2)(c1)\n",
    "c2 = layers.Conv1D(filters=20,kernel_size=2)(pool1)\n",
    "pool2 = layers.MaxPool1D(pool_size=2)(c2)\n",
    "f1 = layers.Flatten()(pool2)\n",
    "outputs = layers.Dense(4, activation='softmax')(f1)"
   ]
  },
  {
   "cell_type": "code",
   "execution_count": 59,
   "metadata": {},
   "outputs": [],
   "source": [
    "model = models.Model(inputs = inputs, outputs = outputs)\n",
    "model.compile('adam', 'sparse_categorical_crossentropy', metrics=['acc'])"
   ]
  },
  {
   "cell_type": "code",
   "execution_count": 60,
   "metadata": {},
   "outputs": [
    {
     "name": "stdout",
     "output_type": "stream",
     "text": [
      "Model: \"model_6\"\n",
      "_________________________________________________________________\n",
      "Layer (type)                 Output Shape              Param #   \n",
      "=================================================================\n",
      "input_27 (InputLayer)        (None, 22, 1000)          0         \n",
      "_________________________________________________________________\n",
      "permute_42 (Permute)         (None, 1000, 22)          0         \n",
      "_________________________________________________________________\n",
      "lstm_25 (LSTM)               (None, 1000, 20)          3440      \n",
      "_________________________________________________________________\n",
      "permute_43 (Permute)         (None, 20, 1000)          0         \n",
      "_________________________________________________________________\n",
      "conv1d_24 (Conv1D)           (None, 11, 10)            100010    \n",
      "_________________________________________________________________\n",
      "max_pooling1d_20 (MaxPooling (None, 5, 10)             0         \n",
      "_________________________________________________________________\n",
      "conv1d_25 (Conv1D)           (None, 4, 20)             420       \n",
      "_________________________________________________________________\n",
      "max_pooling1d_21 (MaxPooling (None, 2, 20)             0         \n",
      "_________________________________________________________________\n",
      "flatten_6 (Flatten)          (None, 40)                0         \n",
      "_________________________________________________________________\n",
      "dense_6 (Dense)              (None, 4)                 164       \n",
      "=================================================================\n",
      "Total params: 104,034\n",
      "Trainable params: 104,034\n",
      "Non-trainable params: 0\n",
      "_________________________________________________________________\n"
     ]
    }
   ],
   "source": [
    "model.summary()"
   ]
  },
  {
   "cell_type": "code",
   "execution_count": 61,
   "metadata": {},
   "outputs": [
    {
     "name": "stdout",
     "output_type": "stream",
     "text": [
      "Train on 1692 samples, validate on 423 samples\n",
      "Epoch 1/4\n",
      "1692/1692 [==============================] - 19s 11ms/step - loss: 1.4579 - acc: 0.3132 - val_loss: 1.3680 - val_acc: 0.3877\n",
      "Epoch 2/4\n",
      "1692/1692 [==============================] - 19s 11ms/step - loss: 0.6413 - acc: 0.8126 - val_loss: 1.4940 - val_acc: 0.3641\n",
      "Epoch 3/4\n",
      "1692/1692 [==============================] - 19s 11ms/step - loss: 0.2417 - acc: 0.9693 - val_loss: 1.5735 - val_acc: 0.3806\n",
      "Epoch 4/4\n",
      "1692/1692 [==============================] - 19s 11ms/step - loss: 0.0729 - acc: 0.9994 - val_loss: 1.7323 - val_acc: 0.3948\n"
     ]
    }
   ],
   "source": [
    "loss_hist = model.fit(Xtrain, ytrain, validation_data=(Xval, yval),\n",
    "                     epochs = 4)"
   ]
  },
  {
   "cell_type": "markdown",
   "metadata": {},
   "source": [
    "## We overfit it apparently"
   ]
  },
  {
   "cell_type": "code",
   "execution_count": 62,
   "metadata": {},
   "outputs": [
    {
     "name": "stdout",
     "output_type": "stream",
     "text": [
      "Train on 1692 samples, validate on 423 samples\n",
      "Epoch 1/4\n",
      "1692/1692 [==============================] - 20s 12ms/step - loss: 1.4257 - acc: 0.3316 - val_loss: 1.3190 - val_acc: 0.3995\n",
      "Epoch 2/4\n",
      "1692/1692 [==============================] - 20s 12ms/step - loss: 0.7193 - acc: 0.7500 - val_loss: 1.4100 - val_acc: 0.3877\n",
      "Epoch 3/4\n",
      "1692/1692 [==============================] - 20s 12ms/step - loss: 0.2998 - acc: 0.9527 - val_loss: 1.5453 - val_acc: 0.4019\n",
      "Epoch 4/4\n",
      "1692/1692 [==============================] - 19s 12ms/step - loss: 0.0976 - acc: 0.9982 - val_loss: 1.5748 - val_acc: 0.4113\n"
     ]
    }
   ],
   "source": [
    "hidden_size = 50\n",
    "inputs = layers.Input(shape=(22, 1000))\n",
    "p1 = layers.Permute((2,1))(inputs)\n",
    "r1 = layers.LSTM(units = hidden_size,return_sequences=True)(p1)\n",
    "p2 = layers.Permute((2,1))(r1)\n",
    "c1 = layers.Conv1D(filters=10,kernel_size=10)(p2)\n",
    "pool1 = layers.MaxPool1D(pool_size=2)(c1)\n",
    "c2 = layers.Conv1D(filters=20,kernel_size=2)(pool1)\n",
    "pool2 = layers.MaxPool1D(pool_size=2)(c2)\n",
    "f1 = layers.Flatten()(pool2)\n",
    "outputs = layers.Dense(4, activation='softmax')(f1)\n",
    "model = models.Model(inputs = inputs, outputs = outputs)\n",
    "model.compile('adam', 'sparse_categorical_crossentropy', metrics=['acc'])\n",
    "\n",
    "loss_hist = model.fit(Xtrain, ytrain, validation_data=(Xval, yval),\n",
    "                     epochs = 4)"
   ]
  },
  {
   "cell_type": "code",
   "execution_count": 63,
   "metadata": {},
   "outputs": [
    {
     "name": "stdout",
     "output_type": "stream",
     "text": [
      "Train on 1692 samples, validate on 423 samples\n",
      "Epoch 1/4\n",
      "1692/1692 [==============================] - 20s 12ms/step - loss: 1.4206 - acc: 0.2736 - val_loss: 1.4074 - val_acc: 0.2955\n",
      "Epoch 2/4\n",
      "1692/1692 [==============================] - 20s 12ms/step - loss: 1.1540 - acc: 0.5012 - val_loss: 1.3873 - val_acc: 0.3617\n",
      "Epoch 3/4\n",
      "1692/1692 [==============================] - 20s 12ms/step - loss: 0.8769 - acc: 0.6803 - val_loss: 1.4236 - val_acc: 0.3617\n",
      "Epoch 4/4\n",
      "1692/1692 [==============================] - 20s 12ms/step - loss: 0.6268 - acc: 0.7979 - val_loss: 1.6219 - val_acc: 0.3522\n"
     ]
    }
   ],
   "source": [
    "hidden_size = 50\n",
    "inputs = layers.Input(shape=(22, 1000))\n",
    "p1 = layers.Permute((2,1))(inputs)\n",
    "r1 = layers.LSTM(units = hidden_size,return_sequences=True)(p1)\n",
    "p2 = layers.Permute((2,1))(r1)\n",
    "c1 = layers.Conv1D(filters=10,kernel_size=3)(p2)\n",
    "pool1 = layers.MaxPool1D(pool_size=2)(c1)\n",
    "c2 = layers.Conv1D(filters=20,kernel_size=3)(pool1)\n",
    "pool2 = layers.MaxPool1D(pool_size=2)(c2)\n",
    "c3 = layers.Conv1D(filters=20,kernel_size=3)(pool2)\n",
    "pool3 = layers.MaxPool1D(pool_size=2)(c3)\n",
    "\n",
    "\n",
    "f1 = layers.Flatten()(pool3)\n",
    "outputs = layers.Dense(4, activation='softmax')(f1)\n",
    "model = models.Model(inputs = inputs, outputs = outputs)\n",
    "model.compile('adam', 'sparse_categorical_crossentropy', metrics=['acc'])\n",
    "\n",
    "loss_hist = model.fit(Xtrain, ytrain, validation_data=(Xval, yval),\n",
    "                     epochs = 4)"
   ]
  },
  {
   "cell_type": "code",
   "execution_count": null,
   "metadata": {},
   "outputs": [],
   "source": []
  }
 ],
 "metadata": {
  "kernelspec": {
   "display_name": "Python 3",
   "language": "python",
   "name": "python3"
  },
  "language_info": {
   "codemirror_mode": {
    "name": "ipython",
    "version": 3
   },
   "file_extension": ".py",
   "mimetype": "text/x-python",
   "name": "python",
   "nbconvert_exporter": "python",
   "pygments_lexer": "ipython3",
   "version": "3.7.6"
  }
 },
 "nbformat": 4,
 "nbformat_minor": 4
}
